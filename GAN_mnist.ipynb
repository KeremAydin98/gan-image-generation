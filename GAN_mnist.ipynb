{
  "nbformat": 4,
  "nbformat_minor": 0,
  "metadata": {
    "colab": {
      "name": "GAN_mnist.ipynb",
      "provenance": [],
      "collapsed_sections": [],
      "authorship_tag": "ABX9TyPAcM8XEueVPHe3BezEgOzm",
      "include_colab_link": true
    },
    "kernelspec": {
      "name": "python3",
      "display_name": "Python 3"
    },
    "language_info": {
      "name": "python"
    },
    "accelerator": "GPU"
  },
  "cells": [
    {
      "cell_type": "markdown",
      "metadata": {
        "id": "view-in-github",
        "colab_type": "text"
      },
      "source": [
        "<a href=\"https://colab.research.google.com/github/KeremAydin98/gan-image-generation/blob/main/GAN_mnist.ipynb\" target=\"_parent\"><img src=\"https://colab.research.google.com/assets/colab-badge.svg\" alt=\"Open In Colab\"/></a>"
      ]
    },
    {
      "cell_type": "code",
      "metadata": {
        "id": "P_2XN8ghjCUq"
      },
      "source": [
        "import numpy as np\n",
        "import matplotlib.pyplot as plt\n",
        "from tensorflow.keras.datasets import mnist\n",
        "from tensorflow.keras.layers import Dense, Flatten, Reshape\n",
        "from tensorflow.keras.models import Sequential\n",
        "import tensorflow as tf"
      ],
      "execution_count": null,
      "outputs": []
    },
    {
      "cell_type": "code",
      "metadata": {
        "id": "_LVKGgFijKrV"
      },
      "source": [
        "(X_train,y_train),(X_test,y_test) = mnist.load_data()"
      ],
      "execution_count": null,
      "outputs": []
    },
    {
      "cell_type": "code",
      "metadata": {
        "id": "7yUzqDCujSA5"
      },
      "source": [
        "only_eight = X_train[y_train==8]"
      ],
      "execution_count": null,
      "outputs": []
    },
    {
      "cell_type": "code",
      "metadata": {
        "colab": {
          "base_uri": "https://localhost:8080/",
          "height": 284
        },
        "id": "cKBLalbjjXLM",
        "outputId": "435f4fc7-2b4c-4aeb-f0e8-5998e782fa39"
      },
      "source": [
        "plt.imshow(only_eight[8])"
      ],
      "execution_count": null,
      "outputs": [
        {
          "output_type": "execute_result",
          "data": {
            "text/plain": [
              "<matplotlib.image.AxesImage at 0x7f0f924ffa50>"
            ]
          },
          "metadata": {},
          "execution_count": 4
        },
        {
          "output_type": "display_data",
          "data": {
            "image/png": "[encoded data removed]",
            "text/plain": [
              "<Figure size 432x288 with 1 Axes>"
            ]
          },
          "metadata": {
            "needs_background": "light"
          }
        }
      ]
    },
    {
      "cell_type": "code",
      "metadata": {
        "colab": {
          "base_uri": "https://localhost:8080/"
        },
        "id": "mT-tgnJFjZpF",
        "outputId": "d92cb86f-087c-4d04-a562-42c69fdedce8"
      },
      "source": [
        "only_eight.shape"
      ],
      "execution_count": null,
      "outputs": [
        {
          "output_type": "execute_result",
          "data": {
            "text/plain": [
              "(5851, 28, 28)"
            ]
          },
          "metadata": {},
          "execution_count": 5
        }
      ]
    },
    {
      "cell_type": "code",
      "metadata": {
        "colab": {
          "base_uri": "https://localhost:8080/"
        },
        "id": "2MFFp8wfjeHD",
        "outputId": "1b1588b5-2021-4845-9c5b-b79f60ff12dd"
      },
      "source": [
        "X_train.shape"
      ],
      "execution_count": null,
      "outputs": [
        {
          "output_type": "execute_result",
          "data": {
            "text/plain": [
              "(60000, 28, 28)"
            ]
          },
          "metadata": {},
          "execution_count": 6
        }
      ]
    },
    {
      "cell_type": "code",
      "metadata": {
        "id": "cCo1KDH5jgfd"
      },
      "source": [
        "#discriminator model\n",
        "\n",
        "discriminator = Sequential()\n",
        "\n",
        "discriminator.add(Flatten(input_shape=[28,28]))\n",
        "discriminator.add(Dense(600,activation='relu'))\n",
        "discriminator.add(Dense(450,activation='relu'))\n",
        "discriminator.add(Dense(300,activation='relu'))\n",
        "discriminator.add(Dense(150,activation='relu'))\n",
        "discriminator.add(Dense(100,activation='relu'))\n",
        "discriminator.add(Dense(50,activation='relu'))\n",
        "\n",
        "\n",
        "discriminator.add(Dense(1,activation='sigmoid'))\n",
        "\n",
        "discriminator.compile(optimizer='adam',loss='binary_crossentropy')"
      ],
      "execution_count": null,
      "outputs": []
    },
    {
      "cell_type": "code",
      "metadata": {
        "id": "dsCCFfi6nEDU"
      },
      "source": [
        "#generator model\n",
        "coding_size=100\n",
        "generator = Sequential()\n",
        "\n",
        "generator.add(Dense(50,activation='relu',input_shape=[coding_size]))\n",
        "generator.add(Dense(100, activation='relu'))\n",
        "generator.add(Dense(150, activation='relu'))\n",
        "generator.add(Dense(300,activation='relu'))\n",
        "generator.add(Dense(450,activation='relu'))\n",
        "generator.add(Dense(600,activation='relu'))\n",
        "\n",
        "\n",
        "generator.add(Dense(784, activation='relu'))\n",
        "\n",
        "generator.add(Reshape([28,28]))"
      ],
      "execution_count": null,
      "outputs": []
    },
    {
      "cell_type": "code",
      "metadata": {
        "id": "Q5b8IeWbni63"
      },
      "source": [
        "GAN = Sequential([generator,discriminator])"
      ],
      "execution_count": null,
      "outputs": []
    },
    {
      "cell_type": "code",
      "metadata": {
        "id": "jLUIAfyznr7u"
      },
      "source": [
        "discriminator.trainable = False"
      ],
      "execution_count": null,
      "outputs": []
    },
    {
      "cell_type": "code",
      "metadata": {
        "id": "xVuaBLdNoNu1"
      },
      "source": [
        "GAN.compile(optimizer='adam',loss='binary_crossentropy')"
      ],
      "execution_count": null,
      "outputs": []
    },
    {
      "cell_type": "code",
      "metadata": {
        "id": "zdG5RsXhoUw9"
      },
      "source": [
        "batch_size=16"
      ],
      "execution_count": null,
      "outputs": []
    },
    {
      "cell_type": "code",
      "metadata": {
        "id": "XshMcm6SsMGb"
      },
      "source": [
        "dataset = tf.data.Dataset.from_tensor_slices(only_eight).shuffle(buffer_size=1000)"
      ],
      "execution_count": null,
      "outputs": []
    },
    {
      "cell_type": "code",
      "metadata": {
        "colab": {
          "base_uri": "https://localhost:8080/"
        },
        "id": "HwkAo_kOvukC",
        "outputId": "0bd2fca1-6eb8-4013-e39d-90f9e404abed"
      },
      "source": [
        "type(dataset)"
      ],
      "execution_count": null,
      "outputs": [
        {
          "output_type": "execute_result",
          "data": {
            "text/plain": [
              "tensorflow.python.data.ops.dataset_ops.ShuffleDataset"
            ]
          },
          "metadata": {},
          "execution_count": 14
        }
      ]
    },
    {
      "cell_type": "code",
      "metadata": {
        "id": "-ST0i7lrv1BU"
      },
      "source": [
        "# seperating into batches\n",
        "\n",
        "dataset = dataset.batch(batch_size,drop_remainder=True).prefetch(1)"
      ],
      "execution_count": null,
      "outputs": []
    },
    {
      "cell_type": "code",
      "metadata": {
        "id": "oA7i1Pc6wJ4i"
      },
      "source": [
        "epochs=5"
      ],
      "execution_count": null,
      "outputs": []
    },
    {
      "cell_type": "code",
      "metadata": {
        "colab": {
          "base_uri": "https://localhost:8080/"
        },
        "id": "a-f1PtyZwVnc",
        "outputId": "f2b72224-75fd-49c5-edff-3dbec3c3c05a"
      },
      "source": [
        "GAN.layers"
      ],
      "execution_count": null,
      "outputs": [
        {
          "output_type": "execute_result",
          "data": {
            "text/plain": [
              "[<keras.engine.sequential.Sequential at 0x7f0f19978910>,\n",
              " <keras.engine.sequential.Sequential at 0x7f0f924e9c50>]"
            ]
          },
          "metadata": {},
          "execution_count": 17
        }
      ]
    },
    {
      "cell_type": "code",
      "metadata": {
        "colab": {
          "base_uri": "https://localhost:8080/"
        },
        "id": "StHGc4CjwaEQ",
        "outputId": "b6dc7147-9f5e-412b-98bd-d4191f6469d8"
      },
      "source": [
        "generator, discriminator = GAN.layers\n",
        "\n",
        "for epoch in range(epochs):\n",
        "  print(f\"Currently on epoch {epoch+1}\")\n",
        "\n",
        "  i=0 \n",
        "  for X_batch in dataset:\n",
        "    i=i+1\n",
        "    if i%100==0:\n",
        "      print(f\"Currently on batch number {i}\")\n",
        "    \n",
        "    #DISCRIMINATOR TRAINING PHASE\n",
        "    noise = tf.random.normal(shape=[batch_size,coding_size])\n",
        "\n",
        "    gen_images = generator(noise)\n",
        "\n",
        "    X_fake_vs_real = tf.concat([gen_images,tf.dtypes.cast(X_batch,tf.float32)],axis=0)\n",
        "\n",
        "    y1 = tf.constant([[0.0]]*batch_size + [[1.0]]*batch_size)\n",
        "\n",
        "    #now it is time to train the discriminator\n",
        "    discriminator.trainable = True\n",
        "    discriminator.train_on_batch(X_fake_vs_real,y1)\n",
        "\n",
        "    #GENERATOR TRAINING PHASE\n",
        "    noise = tf.random.normal(shape=[batch_size,coding_size])\n",
        "    y2 = tf.constant([[1.0]]*batch_size)\n",
        "\n",
        "    discriminator.trainable = False #so that we will only train the generator\n",
        "\n",
        "    GAN.train_on_batch(noise,y2)\n"
      ],
      "execution_count": null,
      "outputs": [
        {
          "output_type": "stream",
          "name": "stdout",
          "text": [
            "Currently on epoch 1\n",
            "Currently on batch number 100\n",
            "Currently on batch number 200\n",
            "Currently on batch number 300\n",
            "Currently on epoch 2\n",
            "Currently on batch number 100\n",
            "Currently on batch number 200\n",
            "Currently on batch number 300\n",
            "Currently on epoch 3\n",
            "Currently on batch number 100\n",
            "Currently on batch number 200\n",
            "Currently on batch number 300\n",
            "Currently on epoch 4\n",
            "Currently on batch number 100\n",
            "Currently on batch number 200\n",
            "Currently on batch number 300\n",
            "Currently on epoch 5\n",
            "Currently on batch number 100\n",
            "Currently on batch number 200\n",
            "Currently on batch number 300\n"
          ]
        }
      ]
    },
    {
      "cell_type": "code",
      "metadata": {
        "colab": {
          "base_uri": "https://localhost:8080/"
        },
        "id": "yzklU8qo1ZwF",
        "outputId": "59f4f0bc-781e-41af-b8ef-c57eda4267ba"
      },
      "source": [
        "noise = tf.random.normal([5,coding_size])\n",
        "\n",
        "noise.shape"
      ],
      "execution_count": null,
      "outputs": [
        {
          "output_type": "execute_result",
          "data": {
            "text/plain": [
              "TensorShape([5, 100])"
            ]
          },
          "metadata": {},
          "execution_count": 19
        }
      ]
    },
    {
      "cell_type": "code",
      "metadata": {
        "id": "szfNp5sh2rq6"
      },
      "source": [
        "fake_images = generator(noise)"
      ],
      "execution_count": null,
      "outputs": []
    },
    {
      "cell_type": "code",
      "metadata": {
        "colab": {
          "base_uri": "https://localhost:8080/"
        },
        "id": "F-tJV2ta2wlu",
        "outputId": "38090646-0c71-4211-cbe4-fd8acfb69067"
      },
      "source": [
        "fake_images.shape"
      ],
      "execution_count": null,
      "outputs": [
        {
          "output_type": "execute_result",
          "data": {
            "text/plain": [
              "TensorShape([5, 28, 28])"
            ]
          },
          "metadata": {},
          "execution_count": 21
        }
      ]
    },
    {
      "cell_type": "code",
      "metadata": {
        "colab": {
          "base_uri": "https://localhost:8080/",
          "height": 284
        },
        "id": "d8J6gog92yNc",
        "outputId": "b49670ee-6903-4464-8da0-f91ba1fdc00c"
      },
      "source": [
        "plt.imshow(fake_images[4])"
      ],
      "execution_count": null,
      "outputs": [
        {
          "output_type": "execute_result",
          "data": {
            "text/plain": [
              "<matplotlib.image.AxesImage at 0x7f0f19963890>"
            ]
          },
          "metadata": {},
          "execution_count": 22
        },
        {
          "output_type": "display_data",
          "data": {
            "image/png": "[encoded data removed]",
            "text/plain": [
              "<Figure size 432x288 with 1 Axes>"
            ]
          },
          "metadata": {
            "needs_background": "light"
          }
        }
      ]
    }
  ]
}