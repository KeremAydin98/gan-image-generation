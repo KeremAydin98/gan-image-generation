{
  "nbformat": 4,
  "nbformat_minor": 0,
  "metadata": {
    "colab": {
      "name": "DCGAN_mnist.ipynb",
      "provenance": [],
      "collapsed_sections": [],
      "authorship_tag": "ABX9TyPrRAVLXFjJQRBvkE/W9DGo",
      "include_colab_link": true
    },
    "kernelspec": {
      "name": "python3",
      "display_name": "Python 3"
    },
    "language_info": {
      "name": "python"
    },
    "accelerator": "GPU"
  },
  "cells": [
    {
      "cell_type": "markdown",
      "metadata": {
        "id": "view-in-github",
        "colab_type": "text"
      },
      "source": [
        "<a href=\"https://colab.research.google.com/github/KeremAydin98/gan-image-generation/blob/main/DCGAN_mnist.ipynb\" target=\"_parent\"><img src=\"https://colab.research.google.com/assets/colab-badge.svg\" alt=\"Open In Colab\"/></a>"
      ]
    },
    {
      "cell_type": "code",
      "metadata": {
        "id": "P_2XN8ghjCUq"
      },
      "source": [
        "import numpy as np\n",
        "import matplotlib.pyplot as plt\n",
        "from tensorflow.keras.datasets import mnist\n",
        "from tensorflow.keras.layers import Dense, Flatten, Reshape, BatchNormalization,Conv2DTranspose,Conv2D,LeakyReLU,Dropout\n",
        "from tensorflow.keras.models import Sequential\n",
        "import tensorflow as tf"
      ],
      "execution_count": 1,
      "outputs": []
    },
    {
      "cell_type": "code",
      "metadata": {
        "id": "_LVKGgFijKrV",
        "colab": {
          "base_uri": "https://localhost:8080/"
        },
        "outputId": "68e39b27-03ae-46e7-84c6-9415312a4132"
      },
      "source": [
        "(X_train,y_train),(X_test,y_test) = mnist.load_data()"
      ],
      "execution_count": 2,
      "outputs": [
        {
          "output_type": "stream",
          "name": "stdout",
          "text": [
            "Downloading data from https://storage.googleapis.com/tensorflow/tf-keras-datasets/mnist.npz\n",
            "11493376/11490434 [==============================] - 0s 0us/step\n",
            "11501568/11490434 [==============================] - 0s 0us/step\n"
          ]
        }
      ]
    },
    {
      "cell_type": "code",
      "metadata": {
        "colab": {
          "base_uri": "https://localhost:8080/"
        },
        "id": "qAuhAoGBGf-y",
        "outputId": "6530bb11-a8ab-42c9-ae93-e203cb4aac7d"
      },
      "source": [
        "type(X_train)"
      ],
      "execution_count": 3,
      "outputs": [
        {
          "output_type": "execute_result",
          "data": {
            "text/plain": [
              "numpy.ndarray"
            ]
          },
          "metadata": {},
          "execution_count": 3
        }
      ]
    },
    {
      "cell_type": "code",
      "metadata": {
        "colab": {
          "base_uri": "https://localhost:8080/"
        },
        "id": "9EgxZnCf6s_E",
        "outputId": "c533e00a-4e91-420d-9f99-97f4023a1430"
      },
      "source": [
        "# reshape and rescaling the data\n",
        "X_train = X_train / 255\n",
        "\n",
        "X_train = X_train.reshape(-1,28,28,1) * 2 - 1 # pixels are now between -1 and 1\n",
        "\n",
        "print(X_train.min())\n",
        "\n",
        "print(X_train.max())\n"
      ],
      "execution_count": 4,
      "outputs": [
        {
          "output_type": "stream",
          "name": "stdout",
          "text": [
            "-1.0\n",
            "1.0\n"
          ]
        }
      ]
    },
    {
      "cell_type": "code",
      "metadata": {
        "id": "7yUzqDCujSA5"
      },
      "source": [
        "only_eight = X_train[y_train==8]"
      ],
      "execution_count": 5,
      "outputs": []
    },
    {
      "cell_type": "code",
      "metadata": {
        "colab": {
          "base_uri": "https://localhost:8080/"
        },
        "id": "mT-tgnJFjZpF",
        "outputId": "12ab7148-46e3-41f0-c923-641085ef1afb"
      },
      "source": [
        "only_eight.shape"
      ],
      "execution_count": 6,
      "outputs": [
        {
          "output_type": "execute_result",
          "data": {
            "text/plain": [
              "(5851, 28, 28, 1)"
            ]
          },
          "metadata": {},
          "execution_count": 6
        }
      ]
    },
    {
      "cell_type": "code",
      "metadata": {
        "colab": {
          "base_uri": "https://localhost:8080/"
        },
        "id": "2MFFp8wfjeHD",
        "outputId": "048ffeea-553e-474f-ef2a-a98160c4915c"
      },
      "source": [
        "X_train.shape"
      ],
      "execution_count": 7,
      "outputs": [
        {
          "output_type": "execute_result",
          "data": {
            "text/plain": [
              "(60000, 28, 28, 1)"
            ]
          },
          "metadata": {},
          "execution_count": 7
        }
      ]
    },
    {
      "cell_type": "code",
      "metadata": {
        "id": "dsCCFfi6nEDU"
      },
      "source": [
        "#generator model\n",
        "coding_size=100\n",
        "generator = Sequential()\n",
        "\n",
        "generator.add(Dense(7*7*128,activation='relu',input_shape=[coding_size]))\n",
        "generator.add(Reshape([7,7,128]))\n",
        "generator.add(BatchNormalization())\n",
        "generator.add(Conv2DTranspose(64,kernel_size=5,strides=2,padding='same',activation='relu'))\n",
        "generator.add(BatchNormalization())\n",
        "generator.add(Conv2DTranspose(1,kernel_size=5,strides=2,padding='same',activation='tanh'))\n"
      ],
      "execution_count": 8,
      "outputs": []
    },
    {
      "cell_type": "code",
      "metadata": {
        "id": "cCo1KDH5jgfd"
      },
      "source": [
        "#discriminator model\n",
        "\n",
        "discriminator = Sequential()\n",
        "\n",
        "discriminator.add(Conv2D(64,kernel_size=5,strides=2,padding='same',activation=LeakyReLU(0.3),input_shape=[28,28,1]))\n",
        "discriminator.add(Dropout(0.5))\n",
        "\n",
        "discriminator.add(Conv2D(128,kernel_size=5,strides=2,padding='same',activation=LeakyReLU(0.3)))\n",
        "discriminator.add(Dropout(0.5))\n",
        "\n",
        "discriminator.add(Flatten())\n",
        "\n",
        "discriminator.add(Dense(1,activation='sigmoid'))\n",
        "\n",
        "discriminator.compile(optimizer='adam',loss='binary_crossentropy')"
      ],
      "execution_count": 9,
      "outputs": []
    },
    {
      "cell_type": "code",
      "metadata": {
        "id": "Q5b8IeWbni63"
      },
      "source": [
        "GAN = Sequential([generator,discriminator])"
      ],
      "execution_count": 10,
      "outputs": []
    },
    {
      "cell_type": "code",
      "metadata": {
        "id": "jLUIAfyznr7u"
      },
      "source": [
        "discriminator.trainable = False"
      ],
      "execution_count": 11,
      "outputs": []
    },
    {
      "cell_type": "code",
      "metadata": {
        "id": "xVuaBLdNoNu1"
      },
      "source": [
        "GAN.compile(optimizer='adam',loss='binary_crossentropy')"
      ],
      "execution_count": 12,
      "outputs": []
    },
    {
      "cell_type": "code",
      "metadata": {
        "id": "zdG5RsXhoUw9"
      },
      "source": [
        "batch_size=16"
      ],
      "execution_count": 13,
      "outputs": []
    },
    {
      "cell_type": "code",
      "metadata": {
        "id": "XshMcm6SsMGb"
      },
      "source": [
        "dataset = tf.data.Dataset.from_tensor_slices(only_eight).shuffle(buffer_size=1000)"
      ],
      "execution_count": 14,
      "outputs": []
    },
    {
      "cell_type": "code",
      "metadata": {
        "colab": {
          "base_uri": "https://localhost:8080/"
        },
        "id": "HwkAo_kOvukC",
        "outputId": "70c5fc83-6fa8-469f-cf95-95c1d062c98b"
      },
      "source": [
        "type(dataset)"
      ],
      "execution_count": 15,
      "outputs": [
        {
          "output_type": "execute_result",
          "data": {
            "text/plain": [
              "tensorflow.python.data.ops.dataset_ops.ShuffleDataset"
            ]
          },
          "metadata": {},
          "execution_count": 15
        }
      ]
    },
    {
      "cell_type": "code",
      "metadata": {
        "id": "-ST0i7lrv1BU"
      },
      "source": [
        "# seperating into batches\n",
        "\n",
        "dataset = dataset.batch(batch_size,drop_remainder=True).prefetch(1)"
      ],
      "execution_count": 16,
      "outputs": []
    },
    {
      "cell_type": "code",
      "metadata": {
        "id": "oA7i1Pc6wJ4i"
      },
      "source": [
        "epochs=20"
      ],
      "execution_count": 17,
      "outputs": []
    },
    {
      "cell_type": "code",
      "metadata": {
        "colab": {
          "base_uri": "https://localhost:8080/"
        },
        "id": "a-f1PtyZwVnc",
        "outputId": "98c9c496-b931-4022-bbfc-95d6a22a3953"
      },
      "source": [
        "GAN.layers"
      ],
      "execution_count": 18,
      "outputs": [
        {
          "output_type": "execute_result",
          "data": {
            "text/plain": [
              "[<keras.engine.sequential.Sequential at 0x7f3871fcd090>,\n",
              " <keras.engine.sequential.Sequential at 0x7f37fa09d710>]"
            ]
          },
          "metadata": {},
          "execution_count": 18
        }
      ]
    },
    {
      "cell_type": "code",
      "metadata": {
        "colab": {
          "base_uri": "https://localhost:8080/"
        },
        "id": "StHGc4CjwaEQ",
        "outputId": "e605a714-9a9f-4ee6-fe74-53a6a37ac3bf"
      },
      "source": [
        "generator, discriminator = GAN.layers\n",
        "\n",
        "for epoch in range(epochs):\n",
        "  print(f\"Currently on epoch {epoch+1}\")\n",
        "\n",
        "  i=0 \n",
        "  for X_batch in dataset:\n",
        "    i=i+1\n",
        "    if i%100==0:\n",
        "      print(f\"Currently on batch number {i}\")\n",
        "    \n",
        "    #DISCRIMINATOR TRAINING PHASE\n",
        "    noise = tf.random.normal(shape=[batch_size,coding_size])\n",
        "\n",
        "    gen_images = generator(noise)\n",
        "\n",
        "    X_fake_vs_real = tf.concat([gen_images,tf.dtypes.cast(X_batch,tf.float32)],axis=0)\n",
        "\n",
        "    y1 = tf.constant([[0.0]]*batch_size + [[1.0]]*batch_size)\n",
        "\n",
        "    #now it is time to train the discriminator\n",
        "    discriminator.trainable = True\n",
        "    discriminator.train_on_batch(X_fake_vs_real,y1)\n",
        "\n",
        "    #GENERATOR TRAINING PHASE\n",
        "    noise = tf.random.normal(shape=[batch_size,coding_size])\n",
        "    y2 = tf.constant([[1.0]]*batch_size)\n",
        "\n",
        "    discriminator.trainable = False #so that we will only train the generator\n",
        "\n",
        "    GAN.train_on_batch(noise,y2)\n"
      ],
      "execution_count": 19,
      "outputs": [
        {
          "output_type": "stream",
          "name": "stdout",
          "text": [
            "Currently on epoch 1\n",
            "Currently on batch number 100\n",
            "Currently on batch number 200\n",
            "Currently on batch number 300\n",
            "Currently on epoch 2\n",
            "Currently on batch number 100\n",
            "Currently on batch number 200\n",
            "Currently on batch number 300\n",
            "Currently on epoch 3\n",
            "Currently on batch number 100\n",
            "Currently on batch number 200\n",
            "Currently on batch number 300\n",
            "Currently on epoch 4\n",
            "Currently on batch number 100\n",
            "Currently on batch number 200\n",
            "Currently on batch number 300\n",
            "Currently on epoch 5\n",
            "Currently on batch number 100\n",
            "Currently on batch number 200\n",
            "Currently on batch number 300\n",
            "Currently on epoch 6\n",
            "Currently on batch number 100\n",
            "Currently on batch number 200\n",
            "Currently on batch number 300\n",
            "Currently on epoch 7\n",
            "Currently on batch number 100\n",
            "Currently on batch number 200\n",
            "Currently on batch number 300\n",
            "Currently on epoch 8\n",
            "Currently on batch number 100\n",
            "Currently on batch number 200\n",
            "Currently on batch number 300\n",
            "Currently on epoch 9\n",
            "Currently on batch number 100\n",
            "Currently on batch number 200\n",
            "Currently on batch number 300\n",
            "Currently on epoch 10\n",
            "Currently on batch number 100\n",
            "Currently on batch number 200\n",
            "Currently on batch number 300\n",
            "Currently on epoch 11\n",
            "Currently on batch number 100\n",
            "Currently on batch number 200\n",
            "Currently on batch number 300\n",
            "Currently on epoch 12\n",
            "Currently on batch number 100\n",
            "Currently on batch number 200\n",
            "Currently on batch number 300\n",
            "Currently on epoch 13\n",
            "Currently on batch number 100\n",
            "Currently on batch number 200\n",
            "Currently on batch number 300\n",
            "Currently on epoch 14\n",
            "Currently on batch number 100\n",
            "Currently on batch number 200\n",
            "Currently on batch number 300\n",
            "Currently on epoch 15\n",
            "Currently on batch number 100\n",
            "Currently on batch number 200\n",
            "Currently on batch number 300\n",
            "Currently on epoch 16\n",
            "Currently on batch number 100\n",
            "Currently on batch number 200\n",
            "Currently on batch number 300\n",
            "Currently on epoch 17\n",
            "Currently on batch number 100\n",
            "Currently on batch number 200\n",
            "Currently on batch number 300\n",
            "Currently on epoch 18\n",
            "Currently on batch number 100\n",
            "Currently on batch number 200\n",
            "Currently on batch number 300\n",
            "Currently on epoch 19\n",
            "Currently on batch number 100\n",
            "Currently on batch number 200\n",
            "Currently on batch number 300\n",
            "Currently on epoch 20\n",
            "Currently on batch number 100\n",
            "Currently on batch number 200\n",
            "Currently on batch number 300\n"
          ]
        }
      ]
    },
    {
      "cell_type": "code",
      "metadata": {
        "colab": {
          "base_uri": "https://localhost:8080/"
        },
        "id": "yzklU8qo1ZwF",
        "outputId": "26c05db5-7e0b-4203-d2ed-73f65cd14712"
      },
      "source": [
        "noise = tf.random.normal([5,coding_size])\n",
        "\n",
        "noise.shape"
      ],
      "execution_count": 20,
      "outputs": [
        {
          "output_type": "execute_result",
          "data": {
            "text/plain": [
              "TensorShape([5, 100])"
            ]
          },
          "metadata": {},
          "execution_count": 20
        }
      ]
    },
    {
      "cell_type": "code",
      "metadata": {
        "id": "szfNp5sh2rq6"
      },
      "source": [
        "fake_images = generator(noise)"
      ],
      "execution_count": 21,
      "outputs": []
    },
    {
      "cell_type": "code",
      "metadata": {
        "colab": {
          "base_uri": "https://localhost:8080/"
        },
        "id": "F-tJV2ta2wlu",
        "outputId": "86edd148-b4a6-4348-9723-618f86ef9d58"
      },
      "source": [
        "fake_images.shape"
      ],
      "execution_count": 22,
      "outputs": [
        {
          "output_type": "execute_result",
          "data": {
            "text/plain": [
              "TensorShape([5, 28, 28, 1])"
            ]
          },
          "metadata": {},
          "execution_count": 22
        }
      ]
    },
    {
      "cell_type": "code",
      "metadata": {
        "colab": {
          "base_uri": "https://localhost:8080/",
          "height": 1000
        },
        "id": "d8J6gog92yNc",
        "outputId": "4604ef16-edc7-45bd-de61-0c2daacd5daf"
      },
      "source": [
        "for image in fake_images:\n",
        "  plt.imshow(image.numpy().reshape(28,28))\n",
        "  plt.show()"
      ],
      "execution_count": 23,
      "outputs": [
        {
          "output_type": "display_data",
          "data": {
            "image/png": "[encoded data removed]",
            "text/plain": [
              "<Figure size 432x288 with 1 Axes>"
            ]
          },
          "metadata": {
            "needs_background": "light"
          }
        },
        {
          "output_type": "display_data",
          "data": {
            "image/png": "[encoded data removed]",
            "text/plain": [
              "<Figure size 432x288 with 1 Axes>"
            ]
          },
          "metadata": {
            "needs_background": "light"
          }
        },
        {
          "output_type": "display_data",
          "data": {
            "image/png": "[encoded data removed]",
            "text/plain": [
              "<Figure size 432x288 with 1 Axes>"
            ]
          },
          "metadata": {
            "needs_background": "light"
          }
        },
        {
          "output_type": "display_data",
          "data": {
            "image/png": "[encoded data removed]",
            "text/plain": [
              "<Figure size 432x288 with 1 Axes>"
            ]
          },
          "metadata": {
            "needs_background": "light"
          }
        },
        {
          "output_type": "display_data",
          "data": {
            "image/png": "[encoded data removed]",
            "text/plain": [
              "<Figure size 432x288 with 1 Axes>"
            ]
          },
          "metadata": {
            "needs_background": "light"
          }
        }
      ]
    }
  ]
}